{
 "cells": [
  {
   "cell_type": "code",
   "execution_count": 142,
   "id": "a7b5811c",
   "metadata": {},
   "outputs": [
    {
     "data": {
      "text/html": [
       "<div>\n",
       "<style scoped>\n",
       "    .dataframe tbody tr th:only-of-type {\n",
       "        vertical-align: middle;\n",
       "    }\n",
       "\n",
       "    .dataframe tbody tr th {\n",
       "        vertical-align: top;\n",
       "    }\n",
       "\n",
       "    .dataframe thead th {\n",
       "        text-align: right;\n",
       "    }\n",
       "</style>\n",
       "<table border=\"1\" class=\"dataframe\">\n",
       "  <thead>\n",
       "    <tr style=\"text-align: right;\">\n",
       "      <th></th>\n",
       "      <th>Id</th>\n",
       "      <th>MSSubClass</th>\n",
       "      <th>MSZoning</th>\n",
       "      <th>LotFrontage</th>\n",
       "      <th>LotArea</th>\n",
       "      <th>Street</th>\n",
       "      <th>Alley</th>\n",
       "      <th>LotShape</th>\n",
       "      <th>LandContour</th>\n",
       "      <th>Utilities</th>\n",
       "      <th>...</th>\n",
       "      <th>PoolArea</th>\n",
       "      <th>PoolQC</th>\n",
       "      <th>Fence</th>\n",
       "      <th>MiscFeature</th>\n",
       "      <th>MiscVal</th>\n",
       "      <th>MoSold</th>\n",
       "      <th>YrSold</th>\n",
       "      <th>SaleType</th>\n",
       "      <th>SaleCondition</th>\n",
       "      <th>SalePrice</th>\n",
       "    </tr>\n",
       "  </thead>\n",
       "  <tbody>\n",
       "    <tr>\n",
       "      <th>0</th>\n",
       "      <td>1</td>\n",
       "      <td>60</td>\n",
       "      <td>RL</td>\n",
       "      <td>65.0</td>\n",
       "      <td>8450</td>\n",
       "      <td>Pave</td>\n",
       "      <td>NaN</td>\n",
       "      <td>Reg</td>\n",
       "      <td>Lvl</td>\n",
       "      <td>AllPub</td>\n",
       "      <td>...</td>\n",
       "      <td>0</td>\n",
       "      <td>NaN</td>\n",
       "      <td>NaN</td>\n",
       "      <td>NaN</td>\n",
       "      <td>0</td>\n",
       "      <td>2</td>\n",
       "      <td>2008</td>\n",
       "      <td>WD</td>\n",
       "      <td>Normal</td>\n",
       "      <td>208500</td>\n",
       "    </tr>\n",
       "  </tbody>\n",
       "</table>\n",
       "<p>1 rows × 81 columns</p>\n",
       "</div>"
      ],
      "text/plain": [
       "   Id  MSSubClass MSZoning  LotFrontage  LotArea Street Alley LotShape  \\\n",
       "0   1          60       RL         65.0     8450   Pave   NaN      Reg   \n",
       "\n",
       "  LandContour Utilities  ... PoolArea PoolQC Fence MiscFeature MiscVal MoSold  \\\n",
       "0         Lvl    AllPub  ...        0    NaN   NaN         NaN       0      2   \n",
       "\n",
       "  YrSold  SaleType  SaleCondition  SalePrice  \n",
       "0   2008        WD         Normal     208500  \n",
       "\n",
       "[1 rows x 81 columns]"
      ]
     },
     "execution_count": 142,
     "metadata": {},
     "output_type": "execute_result"
    }
   ],
   "source": [
    "# Importing Required Libraries\n",
    "\n",
    "import pandas as pd\n",
    "\n",
    "data = pd.read_csv('train.csv')\n",
    "\n",
    "data.head(1)"
   ]
  },
  {
   "cell_type": "code",
   "execution_count": 106,
   "id": "932b2015",
   "metadata": {},
   "outputs": [
    {
     "name": "stdout",
     "output_type": "stream",
     "text": [
      "(1460, 81)\n"
     ]
    }
   ],
   "source": [
    "# Shape of the training data\n",
    "\n",
    "print(data.shape)"
   ]
  },
  {
   "cell_type": "markdown",
   "id": "9ec051b3",
   "metadata": {},
   "source": [
    "### Pre-Processing"
   ]
  },
  {
   "cell_type": "code",
   "execution_count": 107,
   "id": "6281c741",
   "metadata": {},
   "outputs": [
    {
     "name": "stdout",
     "output_type": "stream",
     "text": [
      "Percentage of Null values in each column: \n",
      "LotFrontage 17.73972602739726\n",
      "Alley 93.76712328767123\n",
      "MasVnrType 0.547945205479452\n",
      "MasVnrArea 0.547945205479452\n",
      "BsmtQual 2.5342465753424657\n",
      "BsmtCond 2.5342465753424657\n",
      "BsmtExposure 2.6027397260273974\n",
      "BsmtFinType1 2.5342465753424657\n",
      "BsmtFinType2 2.6027397260273974\n",
      "Electrical 0.0684931506849315\n",
      "FireplaceQu 47.26027397260274\n",
      "GarageType 5.5479452054794525\n",
      "GarageYrBlt 5.5479452054794525\n",
      "GarageFinish 5.5479452054794525\n",
      "GarageQual 5.5479452054794525\n",
      "GarageCond 5.5479452054794525\n",
      "PoolQC 99.52054794520548\n",
      "Fence 80.75342465753424\n",
      "MiscFeature 96.30136986301369\n"
     ]
    }
   ],
   "source": [
    "# Handling Missing values\n",
    "\n",
    "print(\"Percentage of Null values in each column: \")\n",
    "for col in data.columns:\n",
    "    if data[col].isna().sum() > 0:\n",
    "        print(col, data[col].isna().sum()/len(data[col])*100)"
   ]
  },
  {
   "cell_type": "markdown",
   "id": "b118a132",
   "metadata": {},
   "source": [
    "### Finding the relationship between missing values and Sales Price"
   ]
  },
  {
   "cell_type": "code",
   "execution_count": 108,
   "id": "e0f6658e",
   "metadata": {},
   "outputs": [],
   "source": [
    "def relationship(col):\n",
    "\n",
    "    dataset = data.copy()\n",
    "\n",
    "    dataset[col] = dataset['LotFrontage'].isna().astype(int)\n",
    "\n",
    "    dataset.groupby(col)['SalePrice'].median().plot.bar()"
   ]
  },
  {
   "cell_type": "code",
   "execution_count": 109,
   "id": "3e43978d",
   "metadata": {},
   "outputs": [
    {
     "data": {
      "image/png": "[encoded data removed]",
      "text/plain": [
       "<Figure size 640x480 with 1 Axes>"
      ]
     },
     "metadata": {},
     "output_type": "display_data"
    }
   ],
   "source": [
    "relationship('LotFrontage')"
   ]
  },
  {
   "cell_type": "markdown",
   "id": "14508b85",
   "metadata": {},
   "source": [
    "<p>Here we can see the relationship between each column and sales prices. we can replace all the null values from the respected columns with some meaning ful data we will do that in Feature Engineering</p>"
   ]
  },
  {
   "cell_type": "code",
   "execution_count": 110,
   "id": "60b108dc",
   "metadata": {},
   "outputs": [],
   "source": [
    "# Id column is not required\n",
    "\n",
    "data.drop('Id', axis=1, inplace=True)"
   ]
  },
  {
   "cell_type": "code",
   "execution_count": 153,
   "id": "128f2fc5",
   "metadata": {},
   "outputs": [
    {
     "data": {
      "text/plain": [
       "38"
      ]
     },
     "execution_count": 153,
     "metadata": {},
     "output_type": "execute_result"
    }
   ],
   "source": [
    "# Data that not contains any objects\n",
    "numerical_data = data.select_dtypes(exclude='object')\n",
    "numerical_data.head(1)\n",
    "\n",
    "len(numerical_data.columns)"
   ]
  },
  {
   "cell_type": "markdown",
   "id": "cc2d5e13",
   "metadata": {},
   "source": [
    "out of 81 columns from the data there are 38 columns which are numerical"
   ]
  },
  {
   "cell_type": "markdown",
   "id": "fd1f8aa4",
   "metadata": {},
   "source": [
    "### Let's see the relationship between Year and Sales Price"
   ]
  },
  {
   "cell_type": "code",
   "execution_count": 152,
   "id": "57153ae9",
   "metadata": {},
   "outputs": [
    {
     "data": {
      "text/plain": [
       "<AxesSubplot:xlabel='YrSold'>"
      ]
     },
     "execution_count": 152,
     "metadata": {},
     "output_type": "execute_result"
    },
    {
     "data": {
      "image/png": "[encoded data removed]",
      "text/plain": [
       "<Figure size 640x480 with 1 Axes>"
      ]
     },
     "metadata": {},
     "output_type": "display_data"
    }
   ],
   "source": [
    "data.groupby('YrSold')['SalePrice'].median().plot()"
   ]
  },
  {
   "cell_type": "code",
   "execution_count": null,
   "id": "0b76e7b7",
   "metadata": {},
   "outputs": [],
   "source": []
  },
  {
   "cell_type": "code",
   "execution_count": null,
   "id": "c3eddd5b",
   "metadata": {},
   "outputs": [],
   "source": []
  }
 ],
 "metadata": {
  "kernelspec": {
   "display_name": "Python 3 (ipykernel)",
   "language": "python",
   "name": "python3"
  },
  "language_info": {
   "codemirror_mode": {
    "name": "ipython",
    "version": 3
   },
   "file_extension": ".py",
   "mimetype": "text/x-python",
   "name": "python",
   "nbconvert_exporter": "python",
   "pygments_lexer": "ipython3",
   "version": "3.9.13"
  }
 },
 "nbformat": 4,
 "nbformat_minor": 5
}
